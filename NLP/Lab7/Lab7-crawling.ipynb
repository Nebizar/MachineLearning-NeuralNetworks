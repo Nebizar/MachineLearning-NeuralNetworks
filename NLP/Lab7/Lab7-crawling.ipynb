{
 "cells": [
  {
   "cell_type": "markdown",
   "metadata": {},
   "source": [
    "# Tworzenie zasobów\n",
    "\n",
    "Algorytmy wykorzystywane w problemach przetwarzania języka naturalnego opierają najczęściej swoje działanie o analizę dużych korpusów danych. O ile w zadaniach konkursowych często odpowiednie dane są już przygotowane, o tyle tworząc własne eksperymenty, często musimy sami pozyskać dane i przetransformować do użytecznej postaci.\n",
    "\n",
    "Dzisiejsze laboratoria dotyczyć będą tworzenia korpusów danych.\n",
    "\n",
    "## Automatyczne pozyskiwanie surowych danych tekstowych\n",
    "Dotychczas omawiane metody działały na surowym tekście, który transformowany był do odpowiedniej reprezentacji wektorowej (Bag of words, bag of ngrams, embeddingi). Jak zautomatyzować pozyskiwanie takich surowych danych z internetu?\n",
    "\n",
    "W tej części skupimy się na stworzeniu automatycznego pobieracza danych, który działać będzie w dwóch \"obszarach\":\n",
    "<ol>\n",
    "<li>crawler: moduł odwiedzający kolejne strony internetowy</li>\n",
    "<li>scraper: moduł ekstrahujący treść z konkretnych stron internetowych</li>\n",
    "</ol>\n",
    "\n",
    "Wykorzystajmy do tego dwie biblioteki: \n",
    "\n",
    "**urllib** - do odwiedzania stron\n",
    "\n",
    "**BeautifulSoup** - do parsowania danych (np. w formacie HTML).\n",
    "\n",
    "## Zadanie1: Napisz prosty ekstraktor danych ze stron WWW odwiedzający kilka podstron\n",
    "Ekstraktor ma odwiedzić zadaną stronę internetową, pobrać zawartość wszystkich tekstów wewnątrz paragrafów (wewnątrz tagów P zawartych w pobranym dokumencie HTML), a następnie odwiedzić 5 dowolnych linków z tej strony i z nich analogicznie pobrać zawartość.\n",
    "Łącznie powinniśmy otrzymać dane z 6 adresów internetowch (strona główna + 5 linków ze strony głównej).\n",
    "\n",
    "Do napisania crawlera przydać się mogą następujące funkcje:\n",
    "\n",
    "urllib.request.urlopen() - do pobrania zawartości strony\n",
    "findAll() na obiekcie BeautifulSoup, można ją wykorzystać do przeiterowania po wszystkich tagach danego rodzaju\n",
    "get_text() - Istnieje duża szansa, że wewnątrz tagów P znajdą się również inne tagi HTML, chcielibyśmy oczyścić \n",
    "z nich tekst. Można to zrobić albo z wyrażeniami regularnymi (robiliśmy takie zadanie na pierwszych laboratoriach!), albo użyć właśnie funkcji get_text() z BeautifulSoup\n",
    "\n",
    "Linki do dokumentacji:\n",
    "urllib, pobieranie danych: https://docs.python.org/3/howto/urllib2.html\n",
    "beautifulSoup: https://www.crummy.com/software/BeautifulSoup/bs4/doc/ (przeczytanie QuickStart jest wystarczające do zrobienia tego zadania)\n"
   ]
  },
  {
   "cell_type": "code",
   "execution_count": 42,
   "metadata": {},
   "outputs": [],
   "source": [
    "import urllib.request\n",
    "from bs4 import BeautifulSoup\n",
    "import re\n",
    "\n",
    "link = 'http://dobre-ksiazki.com.pl/'\n",
    "\n",
    "def getTextfromURL(link):\n",
    "\n",
    "    with urllib.request.urlopen(link) as response:\n",
    "       html_doc = response.read()\n",
    "\n",
    "    soup = BeautifulSoup(html_doc, 'html.parser')\n",
    "    paragraphs = soup.find_all('p')\n",
    "\n",
    "    text = \"\"\n",
    "    for para in paragraphs:\n",
    "        text += para.get_text()\n",
    "        \n",
    "    return text\n",
    "\n",
    "def getLinksfromURL(link):\n",
    "    links = []\n",
    "    i = 0\n",
    "    REGEX = r'http*'\n",
    "    with urllib.request.urlopen(link) as response:\n",
    "       html_doc = response.read()\n",
    "\n",
    "    soup = BeautifulSoup(html_doc, 'html.parser')\n",
    "    \n",
    "    for link in soup.find_all('a'):\n",
    "        if  re.search(REGEX, link.get('href')):\n",
    "            links.append(link.get('href'))\n",
    "            i += 1\n",
    "        if i==5:\n",
    "            break\n",
    "        \n",
    "    return links\n",
    "\n",
    "def parser(link_org):\n",
    "    text = getTextfromURL(link_org)\n",
    "    links = getLinksfromURL(link_org)\n",
    "    for link in links:\n",
    "        text += getTextfromURL(link)\n",
    "    return text\n"
   ]
  },
  {
   "cell_type": "code",
   "execution_count": 45,
   "metadata": {},
   "outputs": [],
   "source": [
    "text = parser(link)"
   ]
  },
  {
   "cell_type": "code",
   "execution_count": 46,
   "metadata": {},
   "outputs": [
    {
     "data": {
      "text/plain": [
       "'\\n\\n\\n\\n120 PRZEPISÓW NA CZAS DETOKSU I PO DETOKSIEJaglany Detoks\\npomógł odzyskać zdrowie tysiącom osób! Roślinny skalpel jest stale\\nw natarciu! Każdego dnia post skutecznie pokonuje coraz więcej\\nchorób cywilizacyjnych otyłość, cukrzycę, alergie pokarmowe,\\ninfekcje!W kolejnej części...\\n więcej\\n\\n\\n\\nTrzecia książka autorek bestsellerowych poradników\\nkucharskich z przepisami dla najmłodszych smakoszy opartymi na\\nmetodzie BLW – tym razem dla nieco starszych dzieci!Twoje dziecko\\npotrafi już chodzić i głośno domagać się dokładki? Albo może wręcz\\nprzeciwnie –protestuje przeciwko...\\n więcej\\n\\n\\n\\nTrzynaście lat temu katastrofalna pandemia, nazywana\\napokalipsą, zabiła miliardy.Dla tych, którzy przetrwali, to szansa\\nna stworzenie nowego świata. Jednak apokalipsa nie była zwyczajnym\\nwirusem. U części ocalałych obudziła dziwne moce potrafią\\nuzdrawiać, wyrządzać szkody, a nawet...\\n więcej\\n\\n\\n\\nGratka dla posiadaczy niebieskiej wersji Map!Dodatek do\\npodstawowego wydania książki, zawierający mapy 24 krajów\\ndołączonych do atlasu w wydaniach rozszerzonych.Obejmuje wszystkie\\nstworzone dotychczas przez autorów mapy, które nie znalazły się w\\npodstawowym wydaniu: Argentyny, Danii,...\\n więcej\\n\\n\\n\\nJak sztuczna inteligencja wpłynie na świat - wojny, prawo,\\nzatrudnienie, przestępczość, relacje społeczne i nasze własne\\npoczucie człowieczeństwa? Czy powinniśmy się obawiać wyścigu\\nzbrojeń w zakresie broni autonomicznych, a może tego że maszyny\\ncałkiem nas zastąpią na rynku...\\n więcej\\n\\n\\n\\nNiektóre zwierzęta zachowują się w sposób, który może wydawać\\nnam się dziwaczny, a wręcz odrażający, ale one po prostu prowadzą\\nnormalne życie: jedzą, wydalają, porozumiewają się, walczą o\\nprzetrwanie... Dzięki tej książce odkryjecię najobrzydliwsze ich\\nsekrety, a także...\\n więcej\\n\\n\\n\\nPierwsza część nowej serii królowej szwedzkiego\\nkryminału.Inteligentna i piękna Faye ma wszystko wspaniałego męża,\\nukochaną córeczkę i luksusowy apartament w najlepszej dzielnicy\\nSztokholmu. Jednak pozory mogą mylić... Jej idealne życie to w\\nrzeczywistości desperackie próby...\\n więcej\\n\\n\\n\\nNaciągnięte Elżbiety Turlej to podróż w głąb świata, który\\nznamy ze zdjęć w kolorowych magazynach, Instagramu czy programów\\nreality show. Reporterka Newsweeka wchodzi tam, gdzie nie ma fleszy\\ni przeciętnym śmiertelnikom wstęp wzbronionym. Rozmawia z\\ngwiazdami, ale też z...\\n więcej\\n\\n\\n\\nJanusz Kulig. Niedokończona historia to zbiór wywiadów o\\ntragicznie zmarłym kierowcy rajdowym. Trzykrotnym mistrzu Polski,\\nwicemistrzu Europy, dwukrotnym wicemistrzu Europy Centralnej oraz\\nmistrzu Słowacji. Jednak to nie tytuły zdobiły Janusza, choć rajdy\\nsamochodowe były całym jego...\\n więcej\\n\\n\\n\\nNajpoważniejsze przestępstwa i najbrutalniejsze zbrodnie to\\nich codzienność. Funkcjonariusze operacyjni i dochodzeniowi\\nwydziałów kryminalnych oraz Centralnego Biura Śledczego Policji,\\ntechnik kryminalistyki, medyk sądowy i psycholog policyjny\\nzdradzają swoje sekrety. Zabójstwa,...\\n więcej\\n\\n\\n\\nPotrafi zabijać. Ale wyszkolono go, by ratował życie.Snajper,\\nz którym walczysz ramię w ramię, przyjdzie ci z pomocą, gdy\\nzostaniesz ranny. Opatrzy cię. Wyprowadzi spod ognia\\nnieprzyjaciela. Zaryzykuje swoim życiem, by ratować twoje. Jeśli\\nbędzie naprawdę ciężko, zostanie przy...\\n więcej\\n\\n\\n\\nKiedy los daje ci szansę, by pracować przy oskarowej gali,\\nnie zastanawiasz się dwa razy. Nawet jeśli to tylko praca\\nasystentki najbardziej kapryśnej stylistki w całym Hollywood.Amber\\nGreen pracuje w londyńskim butiku i kocha modę. Kiedy sławna\\nstylistka gwiazd Mona Armstrong proponuje...\\n więcej\\n\\n\\n\\nElektryzujące odkrycia na temat pojedynczej cząsteczki\\nchemicznej w mózgu, która\\npopycha nas do tego, by osiągać to, co niezdobyte i odległe ?\\nczy chodzi o lot na Księżyc,\\nsolniczkę po drugiej stronie stołu, czy zbliżenie do\\nabsolutu. Cząsteczka ta skłania nas\\ndo...\\n więcej\\n\\n\\n\\nMężczyzna, który w jawny sposób zdradzał swoje żony, łapanie\\nza cipki uważa za sztukę uwodzenia i twierdzi, że chętnie umówiłby\\nsię na randkę ze swoją najstarszą córką gdyby nie fakt, że jest jej\\nojcem. Czy którykolwiek prezydent w historii Stanów Zjednoczonych\\nmiał...\\n więcej\\n\\n\\n\\nŻycie Tessy można podzielić na to, co zdarzyło się PRZED\\nPOZNANIEM HARDINA, i na to, co zdarzyło się PÓŹNIEJ.\\nKiedy Tessa zaczyna studia, jej życie wydaje się idealnie\\npoukładane: chce spełnić marzenia o pracy w wydawnictwie i jak\\nnajszybciej połączyć się z ukochanym Noah,...\\n więcej\\n\\n\\n\\nFascynująca opowieść o stworzeniach, które rządzą światem.Są\\nmałe, zgrabne i wyjątkowo uparte, a na dodatek ratują nam życie\\nkażdego dnia.Występują w tylu gatunkach, że kalendarz ze zdjęciami\\nowada miesiąca wystarczyłby na ponad 80 000 lat. Widziały, jak\\nprzychodzą i...\\n więcej\\n\\n\\n\\nPotrafi zabijać. Ale wyszkolono go, by ratował życie.Snajper,\\nz którym walczysz ramię w ramię, przyjdzie ci z pomocą, gdy\\nzostaniesz ranny. Opatrzy cię. Wyprowadzi spod ognia\\nnieprzyjaciela. Zaryzykuje swoim życiem, by ratować twoje. Jeśli\\nbędzie naprawdę ciężko, zostanie przy...\\n więcej\\n\\n\\n\\nWitaj w świecie jednego z najlepszych kolarzy w\\nhistorii!Sekrety największych wyścigów. Cała prawda o tym, co\\ndzieje się w peletonie. Okoliczności zwycięstw w mistrzostwach\\nświata UCI, historia wieloletniej rywalizacji z Michałem\\nKwiatkowskim oraz szczegóły kontrowersyjnej...\\n więcej\\n\\n\\n\\nWszystko, co musisz wiedzieć o chorobach stawów oraz 140\\nprzepisów na pyszne posiłki.Masz zdiagnozowane reumatoidalne\\nzapalenie stawów (RZS) lub inną chorobę stawów? Dokuczają ci bóle\\nstawów? Kolana nie pozwalają o sobie zapomnieć?Mamy dla ciebie\\ndobrą wiadomość. Sposób...\\n więcej\\n\\n\\n\\nBohaterowie Zmorojewa\" pakują się w nowe kłopoty.Mroczne\\nwydarzenia poprzedniego lata zaczynają się zacierać w pamięci Anki\\ni Tytusa, gdy w Głuszycach znów coś zaczyna się dziać. Tym razem o\\nwsi robi się głośno z powodu tajemniczego uzdrowiciela-Adama\\nKropińskiego, do którego...\\n więcej\\n\\n\\n\\nCzy gdzieś w twoim ciele mogą kryć się pozostałości twojego\\nbrata bliźniaka? Dlaczego londyńscy kominiarze zaskakująco często\\ncierpieli na raka moszny? I czy to możliwe, żeby guz podwoił się w\\nciągu zaledwie doby?\\nSzokujące, obrzydliwe, zabawne, fascynujące? Nowotwory\\ni...\\n więcej\\n\\n\\n\\nUśmiech losu to dar. Rozglądajcie się, aby go nie\\nprzegapić.Można pokonać złe wspomnienia i spróbować wyjrzeć poza\\nmroczną zasłonę przykrości i zadr, które przyniósł nam los.\\nNajpierw nieśmiało, a potem już z całą mocą uwierzyć, że szczęście\\njest już blisko. Dać sobie...\\n więcej\\n\\n\\n\\nCzy to już koniec naszej cywilizacji?\\n\\nTrzymamy w ręku książkę, która jest jednym z najważniejszych\\ndzieł współczesnej humanistyki, nie tylko polskiej. Wybitny uczony\\ni pisarz, wielki erudyta, prof. Wojciech Roszkowski, dokonuje w\\nniej bilansu naszej cywilizacji. Bilans to...\\n więcej\\n\\n\\n\\nA BRAND NEW DIARY OF A WIMPY KID STORY that will have you\\nrolling with laughter, from number one bestselling author Jeff\\nKinney!\\n\\nHi my name is Rowley Jefferson and this is my book. Now I\\nhave a diary just like my friend Greg...\\n\\nRowley\\'s best friend Greg Heffley has...\\n więcej\\n\\n\\n\\nFascynujący zbiór historii rozgrywających się od Dawnych Dni\\nŚródziemia po zakończenie Wojny o Pierścień, stanowiących\\nkontynuację Hobbita, Władcy Pierścieni i Silmarillionu.\\nKsiążka skupia się na Śródziemiu, zawiera barwną opowieść\\nGandalfa o tym, jak doszło do tego,...\\n więcej\\n\\n\\n\\nMinął 28 tydzień tajnych prac wykopaliskowych, które miały\\nprzybliżyć ludzkość do poznania sekretu obcej cywilizacji.W 29\\ntygodniu stało się jednak coś niezwykłego! Zniknął cały zespół,\\npozostawiając po sobie jedynie dziennik. Twoim zadaniem będzie\\nrozwikłanie tej tajemnicy....\\n więcej\\n\\n\\n\\nOdkrycia ostatnich lat radykalnie zmieniły nasze rozumienie\\nproblemu zdrowia. Jak się okazało, równowagę wszystkich\\nprzemian\\nw organizmie, czyli zdrowie, mamy zakodowaną w genach, które\\nznajdują\\nsię w jądrze naszych komórek. Dlatego też nie powinno nas\\ndziwić,\\n więcej\\n\\n\\n\\nWykorzystujemy tylko 10% możliwości swojego mózgu. Kolumb\\nodkrył Amerykę. Ciepło najbardziej ucieka przez głowę.\\n\\nNIC BARDZIEJ MYLNEGO! A to tylko kilka informacji wyssanych z\\npalca, w które wciąż wierzymy!\\n\\nRadek Kotarski rozprawia się z 58 popularnymi\\nmitami....\\n więcejInspirowana prawdziwą historią opowieść o sile matczynej miłości. Helene jest czystej krwi Niemką. Jednak kiedy policjanci z polecenia SS przychodzą po jej męża Roma i ich piątkę dzieci, decyduje się pojechać z nimi do Auschwitz. Na miejscu Mengele zmusza ją do otwarcia przedszkola dla obozowych dzieci. Jako wyszkolona pielęgniarka, Helene nie ma złudzeń, po co Mengele chce mieć maluchy tak blisko swojego laboratorium. Jednak robi wszystko, aby w tym piekle dzieci zaznały choć odrobiny człowieczeństwa. \\n\\t\\twięcej\\n0 szt.\\xa0\\xa00.00  zł\\n\\n\\n\\n120 PRZEPISÓW NA CZAS DETOKSU I PO DETOKSIEJaglany Detoks\\npomógł odzyskać zdrowie tysiącom osób! Roślinny skalpel jest stale\\nw natarciu! Każdego dnia post skutecznie pokonuje coraz więcej\\nchorób cywilizacyjnych otyłość, cukrzycę, alergie pokarmowe,\\ninfekcje!W kolejnej części...\\n więcej\\n\\n\\n\\nTrzecia książka autorek bestsellerowych poradników\\nkucharskich z przepisami dla najmłodszych smakoszy opartymi na\\nmetodzie BLW – tym razem dla nieco starszych dzieci!Twoje dziecko\\npotrafi już chodzić i głośno domagać się dokładki? Albo może wręcz\\nprzeciwnie –protestuje przeciwko...\\n więcej\\n\\n\\n\\nTrzynaście lat temu katastrofalna pandemia, nazywana\\napokalipsą, zabiła miliardy.Dla tych, którzy przetrwali, to szansa\\nna stworzenie nowego świata. Jednak apokalipsa nie była zwyczajnym\\nwirusem. U części ocalałych obudziła dziwne moce potrafią\\nuzdrawiać, wyrządzać szkody, a nawet...\\n więcej\\n\\n\\n\\nGratka dla posiadaczy niebieskiej wersji Map!Dodatek do\\npodstawowego wydania książki, zawierający mapy 24 krajów\\ndołączonych do atlasu w wydaniach rozszerzonych.Obejmuje wszystkie\\nstworzone dotychczas przez autorów mapy, które nie znalazły się w\\npodstawowym wydaniu: Argentyny, Danii,...\\n więcej\\n\\n\\n\\nJak sztuczna inteligencja wpłynie na świat - wojny, prawo,\\nzatrudnienie, przestępczość, relacje społeczne i nasze własne\\npoczucie człowieczeństwa? Czy powinniśmy się obawiać wyścigu\\nzbrojeń w zakresie broni autonomicznych, a może tego że maszyny\\ncałkiem nas zastąpią na rynku...\\n więcej\\n\\n\\n\\nNiektóre zwierzęta zachowują się w sposób, który może wydawać\\nnam się dziwaczny, a wręcz odrażający, ale one po prostu prowadzą\\nnormalne życie: jedzą, wydalają, porozumiewają się, walczą o\\nprzetrwanie... Dzięki tej książce odkryjecię najobrzydliwsze ich\\nsekrety, a także...\\n więcej\\n\\n\\n\\nPierwsza część nowej serii królowej szwedzkiego\\nkryminału.Inteligentna i piękna Faye ma wszystko wspaniałego męża,\\nukochaną córeczkę i luksusowy apartament w najlepszej dzielnicy\\nSztokholmu. Jednak pozory mogą mylić... Jej idealne życie to w\\nrzeczywistości desperackie próby...\\n więcej\\n\\n\\n\\nNaciągnięte Elżbiety Turlej to podróż w głąb świata, który\\nznamy ze zdjęć w kolorowych magazynach, Instagramu czy programów\\nreality show. Reporterka Newsweeka wchodzi tam, gdzie nie ma fleszy\\ni przeciętnym śmiertelnikom wstęp wzbronionym. Rozmawia z\\ngwiazdami, ale też z...\\n więcej\\n\\n\\n\\nJanusz Kulig. Niedokończona historia to zbiór wywiadów o\\ntragicznie zmarłym kierowcy rajdowym. Trzykrotnym mistrzu Polski,\\nwicemistrzu Europy, dwukrotnym wicemistrzu Europy Centralnej oraz\\nmistrzu Słowacji. Jednak to nie tytuły zdobiły Janusza, choć rajdy\\nsamochodowe były całym jego...\\n więcej\\n\\n\\n\\nNajpoważniejsze przestępstwa i najbrutalniejsze zbrodnie to\\nich codzienność. Funkcjonariusze operacyjni i dochodzeniowi\\nwydziałów kryminalnych oraz Centralnego Biura Śledczego Policji,\\ntechnik kryminalistyki, medyk sądowy i psycholog policyjny\\nzdradzają swoje sekrety. Zabójstwa,...\\n więcej\\n\\n\\n\\nPotrafi zabijać. Ale wyszkolono go, by ratował życie.Snajper,\\nz którym walczysz ramię w ramię, przyjdzie ci z pomocą, gdy\\nzostaniesz ranny. Opatrzy cię. Wyprowadzi spod ognia\\nnieprzyjaciela. Zaryzykuje swoim życiem, by ratować twoje. Jeśli\\nbędzie naprawdę ciężko, zostanie przy...\\n więcej\\n\\n\\n\\nKiedy los daje ci szansę, by pracować przy oskarowej gali,\\nnie zastanawiasz się dwa razy. Nawet jeśli to tylko praca\\nasystentki najbardziej kapryśnej stylistki w całym Hollywood.Amber\\nGreen pracuje w londyńskim butiku i kocha modę. Kiedy sławna\\nstylistka gwiazd Mona Armstrong proponuje...\\n więcej\\n\\n\\n\\nElektryzujące odkrycia na temat pojedynczej cząsteczki\\nchemicznej w mózgu, która\\npopycha nas do tego, by osiągać to, co niezdobyte i odległe ?\\nczy chodzi o lot na Księżyc,\\nsolniczkę po drugiej stronie stołu, czy zbliżenie do\\nabsolutu. Cząsteczka ta skłania nas\\ndo...\\n więcej\\n\\n\\n\\nMężczyzna, który w jawny sposób zdradzał swoje żony, łapanie\\nza cipki uważa za sztukę uwodzenia i twierdzi, że chętnie umówiłby\\nsię na randkę ze swoją najstarszą córką gdyby nie fakt, że jest jej\\nojcem. Czy którykolwiek prezydent w historii Stanów Zjednoczonych\\nmiał...\\n więcej\\n\\n\\n\\nŻycie Tessy można podzielić na to, co zdarzyło się PRZED\\nPOZNANIEM HARDINA, i na to, co zdarzyło się PÓŹNIEJ.\\nKiedy Tessa zaczyna studia, jej życie wydaje się idealnie\\npoukładane: chce spełnić marzenia o pracy w wydawnictwie i jak\\nnajszybciej połączyć się z ukochanym Noah,...\\n więcej\\n\\n\\n\\nFascynująca opowieść o stworzeniach, które rządzą światem.Są\\nmałe, zgrabne i wyjątkowo uparte, a na dodatek ratują nam życie\\nkażdego dnia.Występują w tylu gatunkach, że kalendarz ze zdjęciami\\nowada miesiąca wystarczyłby na ponad 80 000 lat. Widziały, jak\\nprzychodzą i...\\n więcej\\n\\n\\n\\nPotrafi zabijać. Ale wyszkolono go, by ratował życie.Snajper,\\nz którym walczysz ramię w ramię, przyjdzie ci z pomocą, gdy\\nzostaniesz ranny. Opatrzy cię. Wyprowadzi spod ognia\\nnieprzyjaciela. Zaryzykuje swoim życiem, by ratować twoje. Jeśli\\nbędzie naprawdę ciężko, zostanie przy...\\n więcej\\n\\n\\n\\nWitaj w świecie jednego z najlepszych kolarzy w\\nhistorii!Sekrety największych wyścigów. Cała prawda o tym, co\\ndzieje się w peletonie. Okoliczności zwycięstw w mistrzostwach\\nświata UCI, historia wieloletniej rywalizacji z Michałem\\nKwiatkowskim oraz szczegóły kontrowersyjnej...\\n więcej\\n\\n\\n\\nWszystko, co musisz wiedzieć o chorobach stawów oraz 140\\nprzepisów na pyszne posiłki.Masz zdiagnozowane reumatoidalne\\nzapalenie stawów (RZS) lub inną chorobę stawów? Dokuczają ci bóle\\nstawów? Kolana nie pozwalają o sobie zapomnieć?Mamy dla ciebie\\ndobrą wiadomość. Sposób...\\n więcej\\n\\n\\n\\nBohaterowie Zmorojewa\" pakują się w nowe kłopoty.Mroczne\\nwydarzenia poprzedniego lata zaczynają się zacierać w pamięci Anki\\ni Tytusa, gdy w Głuszycach znów coś zaczyna się dziać. Tym razem o\\nwsi robi się głośno z powodu tajemniczego uzdrowiciela-Adama\\nKropińskiego, do którego...\\n więcej\\n\\n\\n\\nCzy gdzieś w twoim ciele mogą kryć się pozostałości twojego\\nbrata bliźniaka? Dlaczego londyńscy kominiarze zaskakująco często\\ncierpieli na raka moszny? I czy to możliwe, żeby guz podwoił się w\\nciągu zaledwie doby?\\nSzokujące, obrzydliwe, zabawne, fascynujące? Nowotwory\\ni...\\n więcej\\n\\n\\n\\nUśmiech losu to dar. Rozglądajcie się, aby go nie\\nprzegapić.Można pokonać złe wspomnienia i spróbować wyjrzeć poza\\nmroczną zasłonę przykrości i zadr, które przyniósł nam los.\\nNajpierw nieśmiało, a potem już z całą mocą uwierzyć, że szczęście\\njest już blisko. Dać sobie...\\n więcej\\n\\n\\n\\nCzy to już koniec naszej cywilizacji?\\n\\nTrzymamy w ręku książkę, która jest jednym z najważniejszych\\ndzieł współczesnej humanistyki, nie tylko polskiej. Wybitny uczony\\ni pisarz, wielki erudyta, prof. Wojciech Roszkowski, dokonuje w\\nniej bilansu naszej cywilizacji. Bilans to...\\n więcej\\n\\n\\n\\nA BRAND NEW DIARY OF A WIMPY KID STORY that will have you\\nrolling with laughter, from number one bestselling author Jeff\\nKinney!\\n\\nHi my name is Rowley Jefferson and this is my book. Now I\\nhave a diary just like my friend Greg...\\n\\nRowley\\'s best friend Greg Heffley has...\\n więcej\\n\\n\\n\\nFascynujący zbiór historii rozgrywających się od Dawnych Dni\\nŚródziemia po zakończenie Wojny o Pierścień, stanowiących\\nkontynuację Hobbita, Władcy Pierścieni i Silmarillionu.\\nKsiążka skupia się na Śródziemiu, zawiera barwną opowieść\\nGandalfa o tym, jak doszło do tego,...\\n więcej\\n\\n\\n\\nMinął 28 tydzień tajnych prac wykopaliskowych, które miały\\nprzybliżyć ludzkość do poznania sekretu obcej cywilizacji.W 29\\ntygodniu stało się jednak coś niezwykłego! Zniknął cały zespół,\\npozostawiając po sobie jedynie dziennik. Twoim zadaniem będzie\\nrozwikłanie tej tajemnicy....\\n więcej\\n\\n\\n\\nOdkrycia ostatnich lat radykalnie zmieniły nasze rozumienie\\nproblemu zdrowia. Jak się okazało, równowagę wszystkich\\nprzemian\\nw organizmie, czyli zdrowie, mamy zakodowaną w genach, które\\nznajdują\\nsię w jądrze naszych komórek. Dlatego też nie powinno nas\\ndziwić,\\n więcej\\n\\n\\n\\nWykorzystujemy tylko 10% możliwości swojego mózgu. Kolumb\\nodkrył Amerykę. Ciepło najbardziej ucieka przez głowę.\\n\\nNIC BARDZIEJ MYLNEGO! A to tylko kilka informacji wyssanych z\\npalca, w które wciąż wierzymy!\\n\\nRadek Kotarski rozprawia się z 58 popularnymi\\nmitami....\\n więcejInspirowana prawdziwą historią opowieść o sile matczynej miłości. Helene jest czystej krwi Niemką. Jednak kiedy policjanci z polecenia SS przychodzą po jej męża Roma i ich piątkę dzieci, decyduje się pojechać z nimi do Auschwitz. Na miejscu Mengele zmusza ją do otwarcia przedszkola dla obozowych dzieci. Jako wyszkolona pielęgniarka, Helene nie ma złudzeń, po co Mengele chce mieć maluchy tak blisko swojego laboratorium. Jednak robi wszystko, aby w tym piekle dzieci zaznały choć odrobiny człowieczeństwa. \\n\\t\\twięcej\\n0 szt.\\xa0\\xa00.00  zł\\nWydawnictwo: ZNAK\\nObjetosc: 256 stronOprawa: twardaISBN: 9788324058655Data zapowiedzi: 2019-05-15Realizacja od: 2019-05-15Nasza CENA:\\n32.43  zl Przedsprzedaż0 szt.\\xa0\\xa00.00  zł\\nWydawnictwo: ZNAK\\nObjetosc: 256 stronOprawa: twardaISBN: 9788324058655Data zapowiedzi: 2019-05-15Realizacja od: 2019-05-15Nasza CENA:\\n32.43  zl Przedsprzedaż0 szt.\\xa0\\xa00.00  zł\\nWydawnictwo: ZNAK\\nObjetosc: 256 stronOprawa: twardaISBN: 9788324058655Data zapowiedzi: 2019-05-15Realizacja od: 2019-05-15Nasza CENA:\\n32.43  zl Przedsprzedaż0 szt.\\xa0\\xa00.00  zł\\nWydawnictwo: Otwarte\\nObjetosc: 320 stronOprawa: Miękka ze skISBN: 9788375155747Data zapowiedzi: 2019-05-15Realizacja od: 2019-05-15Nasza CENA:\\n22.68  zl Przedsprzedaż0 szt.\\xa0\\xa00.00  zł'"
      ]
     },
     "execution_count": 46,
     "metadata": {},
     "output_type": "execute_result"
    }
   ],
   "source": [
    "text"
   ]
  },
  {
   "cell_type": "markdown",
   "metadata": {},
   "source": [
    "# Zadanie 2 - CONLL\n",
    "Dane ustrukturyzowane w formacie CONLL.\n",
    "\n",
    "Niektóre algorytmy korzystają z dodatkowych metadanych opisujących poszczególne tokeny (słowa). Bardzo popularnym formatem zapisu takich danych jest format CONLL. \n",
    "\n",
    "Reprezentacja CONLL polega na tym, że dany tekst dzielony jest na zdania, a następnie każde zdanie dzielone jest na tokeny (tokenizowane). Następnie dla każdego tokenu tworzymy listę opisującą cechy tego tokenu (słowa).\n",
    "Poniżej przykład wektora opisującego każdy token zadanego tekstu:\n",
    "<ol>\n",
    "    <li>ID - numer porządkowy tokenu w zdaniu</li>\n",
    "    <li>text - tekst tokenu w formie nieprzetworzonej</li>\n",
    "    <li>Part of Speech tag (POS tag) - informacja o części mowy, która powiązana jest z tym słowem </li>\n",
    "    <li>is digit - flaga (o wartościach 0 lub 1), która informuje nas czy dany token jest liczbą</li>\n",
    "    <li>is punct - flaga (o wartościach 0 lub 1), która informuje nas czy dany token jest znakiem interpunkcyjnym</li>\n",
    "</ol>\n",
    "\n",
    "Wektory dla kolejnych słów zapisywane są pod sobą. **Separatorem cech w wektorze jest pojedyncza spacja.**\n",
    "\n",
    "**Zdania zwyczajowo oddzielamy od siebie podwójnym znakiem nowej linii.**\n",
    "\n",
    "### Przykład:\n",
    "\n",
    "Tekst: Kasia kupiła 2 lizaki: truskawkowy i zielony. Kasia używa Apple IPhone 5 i IPad.\n",
    "\n",
    "Reprezentacja CONLL **(spacje separujące kolumny zostały zwielokrotnione na potrzeby zwiększenia czytelności)**\n",
    "<pre>\n",
    "1 Kasia  RZECZOWNIK 0 0\n",
    "2 kupiła CZASOWNIK  0 0\n",
    "3 2      LICZEBNIK  1 0\n",
    "4 lizaki RZECZOWNIK 0 0\n",
    "5 .      _          0 1\n",
    "\n",
    "1 Kasia  RZECZOWNIK 0 0\n",
    "2 używa  CZASOWNIK  0 0\n",
    "3 Apple  RZECZOWNIK 0 0\n",
    "4 IPhone RZECZOWNIK 0 0\n",
    "5 5      LICZEBNIK  1 0\n",
    "6 i      SPÓJNIK    0 0\n",
    "7 iPad   RZECZOWNIK 0 0\n",
    "8 .      _          0 1\n",
    "</pre>\n",
    "\n",
    "**Zadanie**: Napisz funkcję, która z zadanego tekstu w formie surowego tekstu stworzy reprezentację CONLL opisaną wcześniej wymienionymi atrybutami (ID, text, POS-tag, is_digit, is_punct).\n",
    "\n",
    "Wykorzystaj sentence splitter i tokenizator z NLTK. Do uzyskania informacji o POS-tagach każdego tokenu wykorzystaj funkcję nltk.pos_tag(). W kolumnie związanej z POS-tagiem zapisz pos tag w takiej formie, w jakiej uzyskamy go z funkcji pos_tag (pos_tag() zwraca formy skrótowe, np. 'NN' dla rzeczowników).\n"
   ]
  },
  {
   "cell_type": "code",
   "execution_count": 54,
   "metadata": {
    "scrolled": true
   },
   "outputs": [
    {
     "data": {
      "text/plain": [
       "[[1, 'Kate', 'NNP', 0, 0],\n",
       " [2, 'uses', 'VBZ', 0, 0],\n",
       " [3, 'IPhone', 'NNP', 0, 0],\n",
       " [4, '5', 'CD', 1, 0],\n",
       " [5, 'and', 'CC', 0, 0],\n",
       " [6, 'IPad', 'NNP', 0, 0],\n",
       " [7, '.', '.', 0, 1],\n",
       " [1, 'Kate', 'NNP', 0, 0],\n",
       " [2, 'bought', 'VBD', 0, 0],\n",
       " [3, '2', 'CD', 1, 0],\n",
       " [4, 'lolipops', 'NNS', 0, 0],\n",
       " [5, '.', '.', 0, 1]]"
      ]
     },
     "execution_count": 54,
     "metadata": {},
     "output_type": "execute_result"
    }
   ],
   "source": [
    "def generate_conll(text = \"Kate uses IPhone 5 and IPad. Kate bought 2 lolipops.\"):\n",
    "    import nltk\n",
    "    import string\n",
    "    out = []\n",
    "    sent_text = nltk.sent_tokenize(text)\n",
    "    for sentence in sent_text:\n",
    "        tokenized_text = nltk.word_tokenize(sentence)\n",
    "        #print(tokenized_text)\n",
    "        tags = nltk.pos_tag(tokenized_text)\n",
    "        #print(tags)\n",
    "        num = 1\n",
    "        for word, tag in zip(tokenized_text, tags):\n",
    "            out.append([num, word, tag[1], int(word.isdigit()), int(word in string.punctuation)])\n",
    "            num +=1\n",
    "    return out\n",
    "\n",
    "conll = generate_conll()\n",
    "conll\n"
   ]
  },
  {
   "cell_type": "markdown",
   "metadata": {
    "collapsed": true
   },
   "source": [
    "\n",
    "Wyobraźmy sobie teraz, że chcielibyśmy wykrywać wzmianki o urządzeniach elektronicznych w tekście. W jaki sposób zakodować informację o (potencjalnie wielotokenowych) nazwach produktów w CONLL, tak, aby później móc wykonać proces uczenia?\n",
    "\n",
    "Dodajmy w naszym CONLLu dodatkową kolumnę reprezentującą informację o urządzeniach elektronicznych.\n",
    "Nazwy urządzeń mogą składać się potencjalnie z wielu słów.\n",
    "Do zakodowania wielotokenowych tekstów używa się najczęściej notacji IOB, gdzie każda literka skrótu oznacza interpretację aktualnego słowa:\n",
    "<ul>\n",
    "    <li> B = begin, marker, który mówi, że aktualne słowo to początek nazwy </li>\n",
    "    <li> I = inside, marker, który mówi, że aktualne słowo to kontynacja nazwy, która rozpoczyna się wystąpieniem wcześniejszego B</li>\n",
    "    <li> O = outside, marker, który mówi, że aktualne słowo nie jest interesującą nas nazwą (jest poza nią) </li>\n",
    "</ul>\n",
    "\n",
    "Po dodaniu nowej kolumny (na końcu) nasz CONLL przybiera postać:\n",
    "\n",
    "<pre>\n",
    "1 Kasia  RZECZOWNIK 0 0 O\n",
    "2 kupiła CZASOWNIK  0 0 O\n",
    "3 2                 1 0 O\n",
    "4 lizaki RZECZOWNIK 0 0 O\n",
    "5 .      _          0 1 O\n",
    "\n",
    "1 Kasia  RZECZOWNIK 0 0 O\n",
    "2 używa             0 0 O\n",
    "3 Apple  RZECZOWNIK 0 0 B\n",
    "4 IPhone RZECZOWNIK 0 0 I\n",
    "5 5                 1 0 I\n",
    "6 i      SPÓJNIK    0 0 O\n",
    "7 iPad   RZECZOWNIK 0 0 B\n",
    "8 .      _          0 1 0\n",
    "</pre>\n",
    "\n",
    "**Zadanie**: Napisz funkcję, która wygeneruje CONLL z uwzględnieniem tagów IOB dotyczących urządzeń.\n",
    "Nasza funkcja posiada teraz dodatkowy argument devices, który zawiera listę obiektów, które opisują gdzie (przesunięcie znakowe) znajduje się początek i koniec wzmianek.\n"
   ]
  },
  {
   "cell_type": "code",
   "execution_count": 26,
   "metadata": {},
   "outputs": [
    {
     "data": {
      "text/plain": [
       "[[1, 'Kate', 'NNP', 0, 0, 'O'],\n",
       " [2, 'uses', 'VBZ', 0, 0, 'O'],\n",
       " [3, 'IPhone', 'NNP', 0, 0, 'B'],\n",
       " [4, '5', 'CD', 1, 0, 'I'],\n",
       " [5, 'and', 'CC', 0, 0, 'O'],\n",
       " [6, 'IPad', 'NNP', 0, 0, 'B'],\n",
       " [7, '.', '.', 0, 1, 'O'],\n",
       " [1, 'Kate', 'NNP', 0, 0, 'O'],\n",
       " [2, 'bought', 'VBD', 0, 0, 'O'],\n",
       " [3, '2', 'CD', 1, 0, 'O'],\n",
       " [4, 'lolipops', 'NNS', 0, 0, 'O'],\n",
       " [5, '.', '.', 0, 1, 'O']]"
      ]
     },
     "execution_count": 26,
     "metadata": {},
     "output_type": "execute_result"
    }
   ],
   "source": [
    "import nltk\n",
    "import string\n",
    "\n",
    "def iob_tag(text, markers):\n",
    "    markers_txt = []\n",
    "    for marker in markers:\n",
    "        markers_txt.append(nltk.word_tokenize(text[marker[\"begin\"]:marker[\"end\"]]))\n",
    "    basic_tags = []\n",
    "    for marker in markers_txt:\n",
    "        basic_tags.append((marker[0], 'B'))\n",
    "        if len(marker) > 1:\n",
    "            for i in range(1,len(marker)):\n",
    "                basic_tags.append((marker[i], 'I'))\n",
    "    text_tokens = nltk.word_tokenize(text)\n",
    "    out = []\n",
    "    iterator = 0\n",
    "    breaker = len(basic_tags)\n",
    "    for token in text_tokens:\n",
    "        \n",
    "        if breaker>iterator and token == basic_tags[iterator][0]:\n",
    "            #print(token)\n",
    "            out.append(basic_tags[iterator])\n",
    "            iterator += 1\n",
    "        else:\n",
    "            out.append((token,'O'))   \n",
    "    return out\n",
    "\n",
    "def generate_CONLL(text = \"Kate uses IPhone 5 and IPad. Kate bought 2 lolipops.\", devices=[{\"begin\": 10, \"end\":18}, {\"begin\": 23, \"end\": 27}]):\n",
    "    out = []\n",
    "    sent_text = nltk.sent_tokenize(text)\n",
    "    iob_tags = iob_tag(text,devices)\n",
    "    for sentence in sent_text:\n",
    "        tokenized_text = nltk.word_tokenize(sentence)\n",
    "        tags = nltk.pos_tag(tokenized_text)\n",
    "        num = 1\n",
    "        for word, tag, tag_iob in zip(tokenized_text, tags, iob_tags):\n",
    "            out.append([num, word, tag[1], int(word.isdigit()), int(word in string.punctuation)])\n",
    "            num +=1\n",
    "    for record, tag in zip(out, iob_tags):\n",
    "        record.append(tag[1])\n",
    "    return out\n",
    "\n",
    "conll = generate_CONLL()\n",
    "conll"
   ]
  },
  {
   "cell_type": "code",
   "execution_count": 56,
   "metadata": {},
   "outputs": [
    {
     "data": {
      "text/plain": [
       "True"
      ]
     },
     "execution_count": 56,
     "metadata": {},
     "output_type": "execute_result"
    }
   ],
   "source": [
    "\"elo\" in [\"elo\", \"melo\"]"
   ]
  },
  {
   "cell_type": "code",
   "execution_count": 57,
   "metadata": {},
   "outputs": [
    {
     "data": {
      "text/plain": [
       "True"
      ]
     },
     "execution_count": 57,
     "metadata": {},
     "output_type": "execute_result"
    }
   ],
   "source": [
    "\"elo\" == \"elo\""
   ]
  },
  {
   "cell_type": "code",
   "execution_count": 21,
   "metadata": {},
   "outputs": [
    {
     "name": "stdout",
     "output_type": "stream",
     "text": [
      "IPhone\n",
      "5\n",
      "IPad\n"
     ]
    }
   ],
   "source": [
    "cos = iob_tag(\"Kate uses IPhone 5 and IPad. Kate bought 2 lolipops.\",[{\"begin\": 10, \"end\":18}, {\"begin\": 23, \"end\": 27}])"
   ]
  },
  {
   "cell_type": "code",
   "execution_count": 22,
   "metadata": {},
   "outputs": [
    {
     "data": {
      "text/plain": [
       "[('Kate', 'O'),\n",
       " ('uses', 'O'),\n",
       " ('IPhone', 'B'),\n",
       " ('5', 'I'),\n",
       " ('and', 'O'),\n",
       " ('IPad', 'B'),\n",
       " ('.', 'O'),\n",
       " ('Kate', 'O'),\n",
       " ('bought', 'O'),\n",
       " ('2', 'O'),\n",
       " ('lolipops', 'O'),\n",
       " ('.', 'O')]"
      ]
     },
     "execution_count": 22,
     "metadata": {},
     "output_type": "execute_result"
    }
   ],
   "source": [
    "cos"
   ]
  },
  {
   "cell_type": "code",
   "execution_count": null,
   "metadata": {},
   "outputs": [],
   "source": []
  }
 ],
 "metadata": {
  "kernelspec": {
   "display_name": "Python 3",
   "language": "python",
   "name": "python3"
  },
  "language_info": {
   "codemirror_mode": {
    "name": "ipython",
    "version": 3
   },
   "file_extension": ".py",
   "mimetype": "text/x-python",
   "name": "python",
   "nbconvert_exporter": "python",
   "pygments_lexer": "ipython3",
   "version": "3.6.5"
  }
 },
 "nbformat": 4,
 "nbformat_minor": 2
}
